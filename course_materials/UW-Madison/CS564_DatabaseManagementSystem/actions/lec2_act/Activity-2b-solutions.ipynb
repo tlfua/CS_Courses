{
 "cells": [
  {
   "cell_type": "markdown",
   "metadata": {},
   "source": [
    "**Make sure to have a copy of the database file, \"world-db\", from the last lecture downloaded and in this directory for the below to work!**"
   ]
  },
  {
   "cell_type": "code",
   "execution_count": null,
   "metadata": {
    "collapsed": true,
    "slideshow": {
     "slide_type": "slide"
    }
   },
   "outputs": [],
   "source": [
    "%load_ext sql\n",
    "%sql sqlite:///./world-db"
   ]
  },
  {
   "cell_type": "markdown",
   "metadata": {},
   "source": [
    "The database `world` has 3 tables: \n",
    "> * `City`\n",
    "> * `Country`\n",
    "> * `CountryLanguage`\n",
    "\n",
    "Recall that to find the schema of a table, we can type the following command:"
   ]
  },
  {
   "cell_type": "code",
   "execution_count": null,
   "metadata": {
    "collapsed": true
   },
   "outputs": [],
   "source": [
    "%sql PRAGMA table_info(Country);"
   ]
  },
  {
   "cell_type": "markdown",
   "metadata": {
    "slideshow": {
     "slide_type": "slide"
    }
   },
   "source": [
    "SINGLE-TABLE QUERIES\n",
    "-------------------\n",
    "\n",
    "Let's start with a simple query: what is the population of the USA?"
   ]
  },
  {
   "cell_type": "code",
   "execution_count": null,
   "metadata": {
    "collapsed": true,
    "slideshow": {
     "slide_type": "fragment"
    }
   },
   "outputs": [],
   "source": [
    "%%sql \n",
    "SELECT Population \n",
    "FROM Country \n",
    "WHERE Code = 'USA';"
   ]
  },
  {
   "cell_type": "markdown",
   "metadata": {},
   "source": [
    "**Exercise #1**: write a query that returns the countries that gained independence after 1989, along with the year they gained independence."
   ]
  },
  {
   "cell_type": "code",
   "execution_count": null,
   "metadata": {
    "collapsed": true
   },
   "outputs": [],
   "source": [
    "%%sql\n",
    "SELECT Name, IndepYear\n",
    "FROM Country\n",
    "WHERE IndepYear >= '1990';"
   ]
  },
  {
   "cell_type": "markdown",
   "metadata": {
    "slideshow": {
     "slide_type": "slide"
    }
   },
   "source": [
    "To return all attributes of a table, we use the `*` in the SELECT clause. For instance, the following query returns all the attributes for cities with population over 1 million in the US."
   ]
  },
  {
   "cell_type": "code",
   "execution_count": null,
   "metadata": {
    "collapsed": true,
    "slideshow": {
     "slide_type": "subslide"
    }
   },
   "outputs": [],
   "source": [
    "%%sql \n",
    "SELECT *\n",
    "FROM City\n",
    "WHERE Population >= '1000000' AND CountryCode = 'USA';"
   ]
  },
  {
   "cell_type": "markdown",
   "metadata": {},
   "source": [
    "Keep in mind that for constants we need to use single quotes!"
   ]
  },
  {
   "cell_type": "markdown",
   "metadata": {},
   "source": [
    "We can rename an attribute in the output schema by using the SQL command AS. For example:"
   ]
  },
  {
   "cell_type": "code",
   "execution_count": null,
   "metadata": {
    "collapsed": true
   },
   "outputs": [],
   "source": [
    "%%sql\n",
    "SELECT Name AS LargeUSACity\n",
    "FROM City\n",
    "WHERE Population >= '1000000' AND CountryCode = 'USA';"
   ]
  },
  {
   "cell_type": "markdown",
   "metadata": {},
   "source": [
    "It is possible to also perform arithmetic operations inside the SELECT clause. For example, to return the population in millions, we can use division."
   ]
  },
  {
   "cell_type": "code",
   "execution_count": null,
   "metadata": {
    "collapsed": true
   },
   "outputs": [],
   "source": [
    "%%sql\n",
    "SELECT Name, (Population / 1000000) AS PopulationInMillion\n",
    "FROM City\n",
    "WHERE Population >= '2000000' AND CountryCode = 'USA';"
   ]
  },
  {
   "cell_type": "markdown",
   "metadata": {},
   "source": [
    "Observe that division here behaves as integer division. If we want to get a float value, we can rewrite the above query (similar to type casting):"
   ]
  },
  {
   "cell_type": "code",
   "execution_count": null,
   "metadata": {
    "collapsed": true
   },
   "outputs": [],
   "source": [
    "%%sql\n",
    "SELECT Name, ((Population * 1.0)/ 1000000) AS PopulationInMillion\n",
    "FROM City\n",
    "WHERE Population >= '2000000' AND CountryCode = 'USA';"
   ]
  },
  {
   "cell_type": "markdown",
   "metadata": {},
   "source": [
    "Let's do some pattern matching! Find the countries that have a form of goverment that contains the word monarchy"
   ]
  },
  {
   "cell_type": "code",
   "execution_count": null,
   "metadata": {
    "collapsed": true
   },
   "outputs": [],
   "source": [
    "%%sql\n",
    "SELECT Name, GovernmentForm\n",
    "FROM Country\n",
    "WHERE GovernmentForm LIKE '%Monarchy%';"
   ]
  },
  {
   "cell_type": "markdown",
   "metadata": {},
   "source": [
    "Next, suppose that we want to find out all the different forms a government. Let's try the following:"
   ]
  },
  {
   "cell_type": "code",
   "execution_count": null,
   "metadata": {
    "collapsed": true
   },
   "outputs": [],
   "source": [
    "%%sql\n",
    "SELECT GovernmentForm\n",
    "FROM Country ;"
   ]
  },
  {
   "cell_type": "markdown",
   "metadata": {},
   "source": [
    "The above query did not return the desired result, because it keeps a separate copy for each occurrence of the same value in the table. To remove the duplicates, we simply need to add the DISTINCT keyword."
   ]
  },
  {
   "cell_type": "code",
   "execution_count": null,
   "metadata": {
    "collapsed": true
   },
   "outputs": [],
   "source": [
    "%%sql\n",
    "SELECT DISTINCT GovernmentForm\n",
    "FROM Country ;"
   ]
  },
  {
   "cell_type": "markdown",
   "metadata": {},
   "source": [
    "We can use ORDER BY to order the city population by decreasing population."
   ]
  },
  {
   "cell_type": "code",
   "execution_count": null,
   "metadata": {
    "collapsed": true
   },
   "outputs": [],
   "source": [
    "%%sql\n",
    "SELECT Name, Population\n",
    "FROM City\n",
    "WHERE Population >= '1000000'AND CountryCode = 'USA'\n",
    "ORDER BY Population DESC;"
   ]
  },
  {
   "cell_type": "markdown",
   "metadata": {},
   "source": [
    "LIMIT is very useful if we want to look at only a few rows of a table."
   ]
  },
  {
   "cell_type": "code",
   "execution_count": null,
   "metadata": {
    "collapsed": true
   },
   "outputs": [],
   "source": [
    "%%sql\n",
    "SELECT *\n",
    "FROM City\n",
    "LIMIT 3 ;"
   ]
  },
  {
   "cell_type": "markdown",
   "metadata": {},
   "source": [
    "**Exercise #2**: write a query that returns the two most populous cities in the US."
   ]
  },
  {
   "cell_type": "code",
   "execution_count": null,
   "metadata": {
    "collapsed": true
   },
   "outputs": [],
   "source": [
    "%%sql\n",
    "SELECT Name, Population\n",
    "FROM City\n",
    "WHERE CountryCode = 'USA'\n",
    "ORDER BY Population DESC\n",
    "LIMIT 2;"
   ]
  },
  {
   "cell_type": "markdown",
   "metadata": {},
   "source": [
    "MULTI-TABLE QUERIES\n",
    "---------------------\n",
    "\n",
    "What are the names of all countries that speak Greek? To answer this question, we need to combine information from two tables by *joining* them."
   ]
  },
  {
   "cell_type": "code",
   "execution_count": null,
   "metadata": {
    "collapsed": true
   },
   "outputs": [],
   "source": [
    "%%sql\n",
    "SELECT Country.Name\n",
    "FROM Country, CountryLanguage\n",
    "WHERE Country.Code = CountryLanguage.CountryCode\n",
    "AND CountryLanguage.Language = 'Greek';"
   ]
  },
  {
   "cell_type": "markdown",
   "metadata": {},
   "source": [
    "Notice how we need to specify the table that each attribute comes from. Another way to write the above query:"
   ]
  },
  {
   "cell_type": "code",
   "execution_count": null,
   "metadata": {
    "collapsed": true
   },
   "outputs": [],
   "source": [
    "%%sql\n",
    "SELECT C.Name\n",
    "FROM Country C, CountryLanguage L\n",
    "WHERE C.Code = L.CountryCode\n",
    "AND L.Language = 'Greek';"
   ]
  },
  {
   "cell_type": "markdown",
   "metadata": {},
   "source": [
    "**Exercise #3**: write a query that returns the countries that speak at least 50% Greek."
   ]
  },
  {
   "cell_type": "code",
   "execution_count": null,
   "metadata": {
    "collapsed": true
   },
   "outputs": [],
   "source": [
    "%%sql\n",
    "SELECT C.Name\n",
    "FROM Country C, CountryLanguage L\n",
    "WHERE C.Code = L.CountryCode\n",
    "AND L.Language = 'Greek'\n",
    "AND L.Percentage >= 50 ;"
   ]
  },
  {
   "cell_type": "markdown",
   "metadata": {},
   "source": [
    "**Exercise #4**: write a query that returns the district of the capital of USA."
   ]
  },
  {
   "cell_type": "code",
   "execution_count": null,
   "metadata": {
    "collapsed": true
   },
   "outputs": [],
   "source": [
    "%%sql\n",
    "SELECT T.district\n",
    "FROM Country C, City T\n",
    "WHERE C.code = 'USA'\n",
    "AND C.capital = T.id ;"
   ]
  },
  {
   "cell_type": "markdown",
   "metadata": {},
   "source": [
    "Next, we want to return the countries that speak both Greek and English."
   ]
  },
  {
   "cell_type": "code",
   "execution_count": null,
   "metadata": {
    "collapsed": true
   },
   "outputs": [],
   "source": [
    "%%sql\n",
    "SELECT C.Name\n",
    "FROM Country C, CountryLanguage L1, CountryLanguage L2\n",
    "WHERE C.Code = L1.CountryCode\n",
    "AND C.Code = L2.CountryCode\n",
    "AND L1.Language = 'Greek'\n",
    "AND L2.Language = 'English';"
   ]
  },
  {
   "cell_type": "markdown",
   "metadata": {},
   "source": [
    "Alternatively, we can write the above query using INTERSECT."
   ]
  },
  {
   "cell_type": "code",
   "execution_count": null,
   "metadata": {
    "collapsed": true
   },
   "outputs": [],
   "source": [
    "%%sql\n",
    "SELECT C.Name\n",
    "FROM Country C, CountryLanguage L\n",
    "WHERE C.Code = L.CountryCode\n",
    "AND L.Language = 'Greek'\n",
    "INTERSECT\n",
    "SELECT C.Name\n",
    "FROM Country C, CountryLanguage L\n",
    "WHERE C.Code = L.CountryCode\n",
    "AND L.Language = 'English' ;"
   ]
  },
  {
   "cell_type": "markdown",
   "metadata": {},
   "source": [
    "Which countries have population more than 100 million and do not speak English?"
   ]
  },
  {
   "cell_type": "code",
   "execution_count": null,
   "metadata": {
    "collapsed": true
   },
   "outputs": [],
   "source": [
    "%%sql\n",
    "SELECT C.Name\n",
    "FROM Country C\n",
    "WHERE C.Population >= 100000000\n",
    "EXCEPT\n",
    "SELECT C.Name\n",
    "FROM Country C, CountryLanguage L\n",
    "WHERE C.Code = L.CountryCode\n",
    "AND L.Language = 'English' ;"
   ]
  }
 ],
 "metadata": {
  "kernelspec": {
   "display_name": "Python 2",
   "language": "python",
   "name": "python2"
  },
  "language_info": {
   "codemirror_mode": {
    "name": "ipython",
    "version": 2
   },
   "file_extension": ".py",
   "mimetype": "text/x-python",
   "name": "python",
   "nbconvert_exporter": "python",
   "pygments_lexer": "ipython2",
   "version": "2.7.14"
  }
 },
 "nbformat": 4,
 "nbformat_minor": 1
}
