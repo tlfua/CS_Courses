{
 "cells": [
  {
   "cell_type": "code",
   "execution_count": 2,
   "metadata": {
    "collapsed": false
   },
   "outputs": [
    {
     "name": "stdout",
     "output_type": "stream",
     "text": [
      "Completed deque/append in 0.01 seconds: 7502824.5 ops/sec\n",
      "Completed deque/appendleft in 0.01 seconds: 10105539.1 ops/sec\n",
      "Completed deque/pop in 0.01 seconds: 9815599.9 ops/sec\n",
      "Completed deque/popleft in 0.01 seconds: 9221290.5 ops/sec\n",
      "Completed list/append in 0.01 seconds: 9670757.0 ops/sec\n",
      "Completed list/appendleft in 13.82 seconds: 7237.7 ops/sec\n",
      "Completed list/pop in 0.01 seconds: 7389541.9 ops/sec\n",
      "Completed list/popleft in 2.31 seconds: 43343.5 ops/sec\n"
     ]
    }
   ],
   "source": [
    "import time\n",
    "from collections import deque\n",
    "\n",
    "num = 100000\n",
    "\n",
    "def append(c):\n",
    "    for i in range(num):\n",
    "        c.append(i)\n",
    "\n",
    "def appendleft(c):\n",
    "    if isinstance(c, deque):\n",
    "        for i in range(num):\n",
    "            c.appendleft(i)\n",
    "    else:\n",
    "        for i in range(num):\n",
    "            c.insert(0, i)\n",
    "def pop(c):\n",
    "    for i in range(num):\n",
    "        c.pop()\n",
    "\n",
    "def popleft(c):\n",
    "    if isinstance(c, deque):\n",
    "        for i in range(num):\n",
    "            c.popleft()\n",
    "    else:\n",
    "        for i in range(num):\n",
    "            c.pop(0)\n",
    "\n",
    "for container in [deque, list]:\n",
    "    for operation in [append, appendleft, pop, popleft]:\n",
    "        c = container(range(num))\n",
    "        start = time.time()\n",
    "        operation(c)\n",
    "        elapsed = time.time() - start\n",
    "        print (\"Completed %s/%s in %.2f seconds: %.1f ops/sec\" % (container.__name__, operation.__name__, elapsed, num / elapsed) )"
   ]
  }
 ],
 "metadata": {
  "kernelspec": {
   "display_name": "Python 3",
   "language": "python",
   "name": "python3"
  },
  "language_info": {
   "codemirror_mode": {
    "name": "ipython",
    "version": 3
   },
   "file_extension": ".py",
   "mimetype": "text/x-python",
   "name": "python",
   "nbconvert_exporter": "python",
   "pygments_lexer": "ipython3",
   "version": "3.4.3"
  }
 },
 "nbformat": 4,
 "nbformat_minor": 0
}
