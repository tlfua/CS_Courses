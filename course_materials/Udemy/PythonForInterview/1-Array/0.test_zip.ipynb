{
 "cells": [
  {
   "cell_type": "code",
   "execution_count": 1,
   "metadata": {
    "collapsed": true
   },
   "outputs": [],
   "source": [
    "def finder(arr1,arr2):\n",
    "    \n",
    "    # Sort the arrays\n",
    "    arr1.sort()\n",
    "    arr2.sort()\n",
    "    \n",
    "    # Compare elements in the sorted arrays\n",
    "    for num1, num2 in zip(arr1,arr2):\n",
    "        print (str(num1) + \", \" + str(num2))\n",
    "        \n",
    "        if num1!= num2:\n",
    "            return num1\n",
    "    \n",
    "    # Otherwise return last element\n",
    "    return arr1[-1]"
   ]
  },
  {
   "cell_type": "code",
   "execution_count": 11,
   "metadata": {
    "collapsed": false
   },
   "outputs": [
    {
     "name": "stdout",
     "output_type": "stream",
     "text": [
      "6\n"
     ]
    }
   ],
   "source": [
    "arr1 = [1, 2, 3, 4, 5, 6, 7]\n",
    "arr2 = [1, 2, 3, 4, 5, 6]\n",
    "z =  zip( arr1, arr2 )\n",
    "\n",
    "n = sum(1 for _ in z)\n",
    "print (n)"
   ]
  }
 ],
 "metadata": {
  "kernelspec": {
   "display_name": "Python 3",
   "language": "python",
   "name": "python3"
  },
  "language_info": {
   "codemirror_mode": {
    "name": "ipython",
    "version": 3
   },
   "file_extension": ".py",
   "mimetype": "text/x-python",
   "name": "python",
   "nbconvert_exporter": "python",
   "pygments_lexer": "ipython3",
   "version": "3.4.3"
  }
 },
 "nbformat": 4,
 "nbformat_minor": 0
}
